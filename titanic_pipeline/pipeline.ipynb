{
 "cells": [
  {
   "cell_type": "code",
   "execution_count": null,
   "id": "ea2372e4",
   "metadata": {},
   "outputs": [],
   "source": [
    "import pandas as pd\n",
    "import seaborn as sns\n",
    "import os\n",
    "from ydata_profiling import ProfileReport\n",
    "from datetime import datetime"
   ]
  },
  {
   "cell_type": "code",
   "execution_count": null,
   "id": "022a5406",
   "metadata": {},
   "outputs": [],
   "source": [
    "def load_data(file_path):\n",
    "    return pd.read_csv(\"./titanic_data.csv\")\n",
    "\n",
    "def clean_data(df):\n",
    "    df = df.dropna(subset=[\"Embarked\"]).copy()\n",
    "    df.loc[:, \"Age\"] = df[\"Age\"].fillna(df[\"Age\"].mean())\n",
    "    df.loc[:, \"embark_town\"] = df[\"embark_townAge\"].fillna(\"Unknown\")\n",
    "    return df\n",
    "\n",
    "\n",
    "def engineer_feature(df):\n",
    "    # create age groups\n",
    "    df[\"age_group\"] = pd.cut(df[\"Age\"], bins=[0, 12, 18, 35, 60, 120], labels=[\"Child\", \"Teen\", \"Young\", \"Adult\", \"Middle-Aged\", \"Senior\"])\n",
    "    \n",
    "    # Encode sex\n",
    "    df[\"sex_encoded\"] = df[\"Sex\"].map({\"male\": 0, \"female\": 1})\n",
    "    return df\n",
    "\n",
    "def validate_data(df):\n",
    "    profile = ProfileReport(df, title=\"Titanic Dataset Profiling Report\", explorative=True)\n",
    "    profile.to_file(\"titanic_data_profile.html\")\n",
    "    \n",
    "def export_cleaned_data(df):\n",
    "    timestamp = datetime.now().strftime(\"%Y%m%d_%H%M%S\")\n",
    "    output_path = f\"cleaned_titanic_data_{timestamp}.csv\"\n",
    "    df.to_csv(output_path, index=False)\n",
    "    print(f\"Cleaned data exported to {output_path}\")"
   ]
  },
  {
   "cell_type": "code",
   "execution_count": null,
   "id": "c46c39ac",
   "metadata": {},
   "outputs": [],
   "source": [
    "# pipeline\n",
    "df = load_data()\n",
    "df = clean_data(df)\n",
    "df = engineer_feature(df)\n",
    "validate_data(df)\n",
    "export_cleaned_data(df)"
   ]
  }
 ],
 "metadata": {
  "kernelspec": {
   "display_name": ".venv",
   "language": "python",
   "name": "python3"
  },
  "language_info": {
   "name": "python",
   "version": "3.11.4"
  }
 },
 "nbformat": 4,
 "nbformat_minor": 5
}

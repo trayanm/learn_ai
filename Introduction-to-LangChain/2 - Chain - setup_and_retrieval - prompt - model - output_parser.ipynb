{
 "cells": [
  {
   "cell_type": "code",
   "execution_count": null,
   "id": "26c57b4e",
   "metadata": {},
   "outputs": [],
   "source": [
    "!pip install langchain \n",
    "!pip install openai\n",
    "!pip install python-dotenv\n",
    "\n",
    "# Import required libraries\n",
    "import os  \n",
    "from dotenv import load_dotenv  \n",
    "from operator import itemgetter\n",
    "from langchain.chat_models import ChatOpenAI\n",
    "from langchain.embeddings import OpenAIEmbeddings\n",
    "from langchain.prompts import ChatPromptTemplate\n",
    "from langchain.schema.output_parser import StrOutputParser\n",
    "from langchain.schema.runnable import RunnableLambda, RunnablePassthrough\n",
    "from langchain.vectorstores import FAISS\n",
    "\n",
    "# Load OpenAI API key from .env file\n",
    "#load_dotenv()\n",
    "os.environ[\"OPENAI_API_KEY\"]='sk-YOUR_KEY'"
   ]
  },
  {
   "cell_type": "code",
   "execution_count": null,
   "id": "c028f5ba",
   "metadata": {},
   "outputs": [],
   "source": [
    "# Load context text \n",
    "with open('stories.txt') as f:\n",
    "    context = f.read()"
   ]
  },
  {
   "cell_type": "code",
   "execution_count": null,
   "id": "9414bd05",
   "metadata": {},
   "outputs": [],
   "source": [
    "# Create indexer \n",
    "vectorstore = FAISS.from_texts([context], embedding=OpenAIEmbeddings())\n",
    "retriever = vectorstore.as_retriever()"
   ]
  },
  {
   "cell_type": "code",
   "execution_count": null,
   "id": "46469a5e",
   "metadata": {},
   "outputs": [],
   "source": [
    "# Create template\n",
    "template = \"\"\"Answer the question based only on the following context:\n",
    "{context}\n",
    "\n",
    "Question: {question}\n",
    "\"\"\""
   ]
  },
  {
   "cell_type": "code",
   "execution_count": null,
   "id": "d2955654",
   "metadata": {},
   "outputs": [],
   "source": [
    "# Create a prompt\n",
    "prompt = ChatPromptTemplate.from_template(template)"
   ]
  },
  {
   "cell_type": "code",
   "execution_count": null,
   "id": "c4e5aa08",
   "metadata": {},
   "outputs": [],
   "source": [
    "#Create a model\n",
    "model = ChatOpenAI()"
   ]
  },
  {
   "cell_type": "code",
   "execution_count": null,
   "id": "7d9fe19c",
   "metadata": {},
   "outputs": [],
   "source": [
    "#Create a chain - setup_and_retrieval - prompt - model - output_parser\n",
    "chain = (\n",
    "    {\"context\": retriever, \"question\": RunnablePassthrough()}\n",
    "    | prompt\n",
    "    | model\n",
    "    | StrOutputParser()\n",
    ")"
   ]
  },
  {
   "cell_type": "code",
   "execution_count": null,
   "id": "1d201797",
   "metadata": {},
   "outputs": [],
   "source": [
    "# Ask questions\n",
    "chain.invoke(\"Who is Wizard?\")"
   ]
  },
  {
   "cell_type": "code",
   "execution_count": null,
   "id": "543a5f09",
   "metadata": {},
   "outputs": [],
   "source": [
    "chain.invoke(\"Who is Aragorn?\")"
   ]
  },
  {
   "cell_type": "code",
   "execution_count": null,
   "id": "6f251b65",
   "metadata": {},
   "outputs": [],
   "source": [
    "chain.invoke(\"Who inherits the One Ring at the start of the story?\")"
   ]
  },
  {
   "cell_type": "code",
   "execution_count": null,
   "id": "48851241",
   "metadata": {},
   "outputs": [],
   "source": [
    "chain.invoke(\"What is the fellowship's main quest and goal?\")"
   ]
  },
  {
   "cell_type": "code",
   "execution_count": null,
   "id": "51fbf789",
   "metadata": {},
   "outputs": [],
   "source": [
    "chain.invoke(\"How does Frodo ultimately defeat Sauron at the end?\")"
   ]
  },
  {
   "cell_type": "code",
   "execution_count": null,
   "id": "d1857d63",
   "metadata": {},
   "outputs": [],
   "source": [
    "chain.invoke(\"Summarize it\")"
   ]
  },
  {
   "cell_type": "code",
   "execution_count": null,
   "id": "4641a028",
   "metadata": {},
   "outputs": [],
   "source": [
    "chain.invoke(\"Who is Legolas?\")"
   ]
  },
  {
   "cell_type": "code",
   "execution_count": null,
   "id": "6e5f5ea4",
   "metadata": {},
   "outputs": [],
   "source": [
    "from langchain.chat_models import ChatOpenAI\n",
    "\n",
    "retriever = ChatOpenAI()\n",
    "\n",
    "chain = (\n",
    "    {\"context\": retriever, \"question\": RunnablePassthrough()} \n",
    "    | prompt\n",
    "    | model\n",
    "    | StrOutputParser()\n",
    ")\n",
    "\n",
    "chain.invoke(\"Who is Legolas?\")\n"
   ]
  }
 ],
 "metadata": {
  "kernelspec": {
   "display_name": ".venv",
   "language": "python",
   "name": "python3"
  },
  "language_info": {
   "codemirror_mode": {
    "name": "ipython",
    "version": 3
   },
   "file_extension": ".py",
   "mimetype": "text/x-python",
   "name": "python",
   "nbconvert_exporter": "python",
   "pygments_lexer": "ipython3",
   "version": "3.12.9"
  }
 },
 "nbformat": 4,
 "nbformat_minor": 5
}

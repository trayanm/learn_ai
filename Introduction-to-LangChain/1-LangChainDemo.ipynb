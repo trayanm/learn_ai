{
 "cells": [
  {
   "cell_type": "code",
   "execution_count": null,
   "id": "a647f99c",
   "metadata": {},
   "outputs": [],
   "source": [
    "!pip install langchain \n",
    "!pip install openai\n",
    "!pip install python-dotenv"
   ]
  },
  {
   "cell_type": "code",
   "execution_count": 1,
   "id": "83be7510",
   "metadata": {},
   "outputs": [],
   "source": [
    "# Import required libraries\n",
    "import os  \n",
    "from dotenv import load_dotenv  "
   ]
  },
  {
   "cell_type": "code",
   "execution_count": 2,
   "id": "b6c980e3",
   "metadata": {},
   "outputs": [],
   "source": [
    "# Import LangChain modules\n",
    "from langchain.llms import OpenAI\n",
    "from langchain.chat_models import ChatOpenAI\n",
    "from langchain.schema import HumanMessage"
   ]
  },
  {
   "cell_type": "code",
   "execution_count": null,
   "id": "89f97728",
   "metadata": {},
   "outputs": [],
   "source": [
    "# Load OpenAI API key from .env file\n",
    "load_dotenv()\n",
    "os.environ[\"OPENAI_API_KEY\"]='sk-YOUR_KEY'"
   ]
  },
  {
   "cell_type": "code",
   "execution_count": 4,
   "id": "0a60d293",
   "metadata": {},
   "outputs": [],
   "source": [
    "# Create OpenAI LLM instance \n",
    "llm = OpenAI()"
   ]
  },
  {
   "cell_type": "code",
   "execution_count": 5,
   "id": "faab5c82",
   "metadata": {},
   "outputs": [],
   "source": [
    "# Create Chat model using OpenAI \n",
    "chat_model = ChatOpenAI()  "
   ]
  },
  {
   "cell_type": "code",
   "execution_count": 6,
   "id": "cd0039e2",
   "metadata": {},
   "outputs": [],
   "source": [
    "# Define a prompt text  \n",
    "text = \"What would be a good name for a new national park with a jungle terrain?\""
   ]
  },
  {
   "cell_type": "code",
   "execution_count": 7,
   "id": "f1ade95d",
   "metadata": {},
   "outputs": [],
   "source": [
    "# Create a HumanMessage schema object containing the prompt \n",
    "messages = [HumanMessage(content=text)] "
   ]
  },
  {
   "cell_type": "code",
   "execution_count": 8,
   "id": "5fc9c21a",
   "metadata": {},
   "outputs": [
    {
     "data": {
      "text/plain": [
       "'\\n\\nRainforest Reserve National Park'"
      ]
     },
     "execution_count": 8,
     "metadata": {},
     "output_type": "execute_result"
    }
   ],
   "source": [
    "# Pass text to LLM for inference\n",
    "llm.invoke(text)"
   ]
  },
  {
   "cell_type": "code",
   "execution_count": 9,
   "id": "3764b0f2",
   "metadata": {},
   "outputs": [
    {
     "data": {
      "text/plain": [
       "AIMessage(content='Emerald Canopy National Park')"
      ]
     },
     "execution_count": 9,
     "metadata": {},
     "output_type": "execute_result"
    }
   ],
   "source": [
    "# Pass Messags to chat model for inference\n",
    "chat_model.invoke(messages)"
   ]
  },
  {
   "cell_type": "code",
   "execution_count": 10,
   "id": "4e5dc3e6",
   "metadata": {},
   "outputs": [
    {
     "name": "stdout",
     "output_type": "stream",
     "text": [
      "content='Emerald Canopy National Park'\n",
      "content='1. Stellar Innovations\\n2. Nexus Solutions\\n3. Fusion Dynamics'\n",
      "content='1. JungleQuest\\n2. WildVines\\n3. LeafyTrails'\n"
     ]
    }
   ],
   "source": [
    "# Initial prompt and response\n",
    "prompt = \"What would be a good name for a new national park with a jungle terrain?\"\n",
    "response = chat_model.invoke(prompt) \n",
    "print(response)\n",
    "\n",
    "# Continue conversation to get more options\n",
    "followup = \"Could you provide 3 more potential names?\"\n",
    "response2 = chat_model.invoke(followup)  \n",
    "print(response2)\n",
    "\n",
    "followup2 = \"Could you provide 3 more potential names, which has something related to jungle in name?\"\n",
    "response3 = chat_model.invoke(followup2)\n",
    "print(response3)"
   ]
  },
  {
   "cell_type": "code",
   "execution_count": 11,
   "id": "afa4e316",
   "metadata": {},
   "outputs": [
    {
     "name": "stdout",
     "output_type": "stream",
     "text": [
      "Tropical Haven National Park\n",
      "\n",
      "Other Options:\n",
      "- 1. Safari Kingdom\n",
      "- 2. Jungle Haven\n",
      "- 3. Wild Oasis\n",
      "- 4. Animal Adventure Park\n",
      "- 5. Beastly Paradise\n",
      "\n",
      "Creative Ideas:\n",
      "- 1. AquaLake\n",
      "- 2. LakeVista\n",
      "- 3. CrystalShores\n"
     ]
    }
   ],
   "source": [
    "# Prompt with all details \n",
    "prompt = \"What would be a good name for a new national park with a jungle terrain? Give new name\"\n",
    "\n",
    "# Get initial suggestion\n",
    "response = chat_model.invoke(prompt) \n",
    "print(response.content)\n",
    "\n",
    "# Ask for alternatives fitting details\n",
    "followup = \"Could you suggest 5 more names for this jungle park with wild animals?\"\n",
    "\n",
    "# Get and format additional names \n",
    "alternatives = chat_model.invoke(followup).content\n",
    "print(\"\\nOther Options:\")\n",
    "for name in alternatives.split(\"\\n\"):\n",
    "  print(f\"- {name}\")\n",
    "\n",
    "# Ask for creative name ideas\n",
    "followup2 = \"Could you provide 3 more potential names, which has something related to lake in name?\"\n",
    "\n",
    "# Get and format creative names\n",
    "creative = chat_model.invoke(followup2).content\n",
    "print(\"\\nCreative Ideas:\") \n",
    "for name in creative.split(\"\\n\"):\n",
    "  print(f\"- {name}\")"
   ]
  }
 ],
 "metadata": {
  "kernelspec": {
   "display_name": ".venv",
   "language": "python",
   "name": "python3"
  },
  "language_info": {
   "codemirror_mode": {
    "name": "ipython",
    "version": 3
   },
   "file_extension": ".py",
   "mimetype": "text/x-python",
   "name": "python",
   "nbconvert_exporter": "python",
   "pygments_lexer": "ipython3",
   "version": "3.11.4"
  }
 },
 "nbformat": 4,
 "nbformat_minor": 5
}

{
 "cells": [
  {
   "cell_type": "code",
   "execution_count": 1,
   "id": "0e93fa86",
   "metadata": {},
   "outputs": [],
   "source": [
    "# imports\n",
    "import pandas as pd\n",
    "import requests\n",
    "import json\n",
    "import os"
   ]
  },
  {
   "cell_type": "code",
   "execution_count": 2,
   "id": "6bd68d0c",
   "metadata": {},
   "outputs": [],
   "source": [
    "def ingest_csv(file_path):\n",
    "    \"\"\"\n",
    "    Ingests a CSV file and returns a DataFrame.\n",
    "    \"\"\"\n",
    "    print(f\"Ingesting CSV file from {file_path}\")\n",
    "    df = pd.read_csv(file_path)\n",
    "    return df\n",
    "\n",
    "def ingest_json(file_path):\n",
    "    \"\"\"\n",
    "    Ingests a JSON file and returns a DataFrame.\n",
    "    \"\"\"\n",
    "    print(f\"Ingesting JSON file from {file_path}\")\n",
    "    with open(file_path, 'r') as file:\n",
    "        data = json.load(file)\n",
    "    df = pd.json_normalize(data)\n",
    "    return df\n",
    "\n",
    "def ingest_api(url):\n",
    "    \"\"\"\n",
    "    Ingests data from a URL and returns a DataFrame.\n",
    "    \"\"\"\n",
    "    print(f\"Ingesting data from API at {url}\")\n",
    "    response = requests.get(url)\n",
    "    data = response.json()\n",
    "    hourly_data = pd.DataFrame(data['hourly'])\n",
    "    return hourly_data"
   ]
  },
  {
   "cell_type": "code",
   "execution_count": null,
   "id": "a6285e84",
   "metadata": {},
   "outputs": [],
   "source": [
    "# main pipeline function to coordinate ingestion and merging\n",
    "def run_pipeline()\n",
    "    # define paths\n",
    "    csv_file_path = 'energy_efficiency.csv'\n",
    "    json_file_path = 'data/sample_data.json'\n",
    "    api_url = 'https://api.example.com/data'    \n",
    "    \n",
    "    # load data from CSV\n",
    "    csv_data = ingest_csv(csv_file_path)\n",
    "    \n",
    "    # load data from JSON\n",
    "    json_data = ingest_json(json_file_path)\n",
    "    \n",
    "    # load data from API\n",
    "    api_data = ingest_api(api_url)\n",
    "    \n",
    "    # merge all dataframes\n",
    "    combined_df = pd.concat([csv_data, json_data, api_data], axis=1)\n",
    "    print(\"Data ingestion complete. Combined DataFrame:\")\n",
    "    print(combined_df.head())\n",
    "    \n",
    "    # save the combined DataFrame to a new CSV file\n",
    "    combined_file_path = 'data/combined_data.csv'\n",
    "    combined_df.to_csv(combined_file_path, index=False)\n",
    "    \n",
    "# run the pipeline\n",
    "if __name__ == \"__main__\":\n",
    "    run_pipeline()"
   ]
  }
 ],
 "metadata": {
  "kernelspec": {
   "display_name": ".venv",
   "language": "python",
   "name": "python3"
  },
  "language_info": {
   "codemirror_mode": {
    "name": "ipython",
    "version": 3
   },
   "file_extension": ".py",
   "mimetype": "text/x-python",
   "name": "python",
   "nbconvert_exporter": "python",
   "pygments_lexer": "ipython3",
   "version": "3.12.9"
  }
 },
 "nbformat": 4,
 "nbformat_minor": 5
}

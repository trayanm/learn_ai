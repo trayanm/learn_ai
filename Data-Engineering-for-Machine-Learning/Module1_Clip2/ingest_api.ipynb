{
 "cells": [
  {
   "cell_type": "code",
   "execution_count": 2,
   "id": "324a2707",
   "metadata": {},
   "outputs": [
    {
     "name": "stdout",
     "output_type": "stream",
     "text": [
      "    Latitude  Longitude  Temperature (C)  Wind Speed (m/s)  \\\n",
      "0  25.772915 -80.198326             32.2              14.9   \n",
      "\n",
      "   Wind Direction (degrees)  Weather Code              Time  \n",
      "0                        98             3  2025-07-21T20:00  \n"
     ]
    }
   ],
   "source": [
    "import requests\n",
    "import pandas as pd\n",
    "\n",
    "# step 1 : define location coordinates\n",
    "latitude = 25.7617\n",
    "longitude = -80.1918\n",
    "\n",
    "# step 2 : define the API endpoint and parameters\n",
    "api_url = f\"https://api.open-meteo.com/v1/forecast?latitude={latitude}&longitude={longitude}&current_weather=true\"\n",
    "\n",
    "# step 3 : make the API request\n",
    "response = requests.get(api_url)\n",
    "\n",
    "# step 4 : check if the request was successful\n",
    "if response.status_code == 200:\n",
    "    data = response.json()\n",
    "    \n",
    "    # step 5 : parse the JSON response\n",
    "    weather_data = {\n",
    "        'Latitude': data['latitude'],\n",
    "        'Longitude': data['longitude'],\n",
    "        'Temperature (C)': data['current_weather']['temperature'],\n",
    "        'Wind Speed (m/s)': data['current_weather']['windspeed'],\n",
    "        'Wind Direction (degrees)': data['current_weather']['winddirection'],\n",
    "        'Weather Code': data['current_weather']['weathercode'],\n",
    "        'Time': data['current_weather']['time']  \n",
    "    }\n",
    "    \n",
    "    # step 6 : create a DataFrame to display the weather data\n",
    "    weather_df = pd.DataFrame([weather_data ])\n",
    "    \n",
    "    # step 8 : print the DataFrame\n",
    "    print(weather_df)\n",
    "else :\n",
    "    print(f\"Error: Unable to fetch data, status code {response.status_code}\")"
   ]
  }
 ],
 "metadata": {
  "kernelspec": {
   "display_name": ".venv",
   "language": "python",
   "name": "python3"
  },
  "language_info": {
   "codemirror_mode": {
    "name": "ipython",
    "version": 3
   },
   "file_extension": ".py",
   "mimetype": "text/x-python",
   "name": "python",
   "nbconvert_exporter": "python",
   "pygments_lexer": "ipython3",
   "version": "3.12.9"
  }
 },
 "nbformat": 4,
 "nbformat_minor": 5
}

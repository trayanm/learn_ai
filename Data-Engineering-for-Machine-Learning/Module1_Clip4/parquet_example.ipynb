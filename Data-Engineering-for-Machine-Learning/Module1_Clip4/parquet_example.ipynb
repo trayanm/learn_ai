{
 "cells": [
  {
   "cell_type": "code",
   "execution_count": 1,
   "id": "9b1a3287",
   "metadata": {},
   "outputs": [
    {
     "name": "stdout",
     "output_type": "stream",
     "text": [
      "CSV saved in 1.63 seconds, size: 49.74 MB\n",
      "Parquet saved in 0.13 seconds, size: 18.94 MB\n",
      "Loaded from Parquet: (1000000, 4)\n"
     ]
    }
   ],
   "source": [
    "import pandas as pd\n",
    "import numpy as np\n",
    "import time\n",
    "import os\n",
    "\n",
    "# Generate a large DataFrame\n",
    "df = pd.DataFrame({\n",
    "    'id': np.arange(1, 1_000_001),\n",
    "    'name': ['User'] * 1_000_000,\n",
    "    'value': np.random.rand(1_000_000),\n",
    "    'date': pd.date_range('2020-01-01', periods=1_000_000, freq='min')\n",
    "})\n",
    "\n",
    "# === Save to CSV ===\n",
    "start = time.time()\n",
    "df.to_csv('example.csv', index=False)\n",
    "csv_time = time.time() - start\n",
    "csv_size = os.path.getsize('example.csv') / (1024 * 1024)\n",
    "\n",
    "# === Save to Parquet ===\n",
    "start = time.time()\n",
    "df.to_parquet('example.parquet', index=False)\n",
    "parquet_time = time.time() - start\n",
    "parquet_size = os.path.getsize('example.parquet') / (1024 * 1024)\n",
    "\n",
    "print(f\"CSV saved in {csv_time:.2f} seconds, size: {csv_size:.2f} MB\")\n",
    "print(f\"Parquet saved in {parquet_time:.2f} seconds, size: {parquet_size:.2f} MB\")\n",
    "\n",
    "# === Load from Parquet ===\n",
    "df_parquet = pd.read_parquet('example.parquet')\n",
    "print(\"Loaded from Parquet:\", df_parquet.shape)\n"
   ]
  }
 ],
 "metadata": {
  "kernelspec": {
   "display_name": ".venv",
   "language": "python",
   "name": "python3"
  },
  "language_info": {
   "codemirror_mode": {
    "name": "ipython",
    "version": 3
   },
   "file_extension": ".py",
   "mimetype": "text/x-python",
   "name": "python",
   "nbconvert_exporter": "python",
   "pygments_lexer": "ipython3",
   "version": "3.12.9"
  }
 },
 "nbformat": 4,
 "nbformat_minor": 5
}

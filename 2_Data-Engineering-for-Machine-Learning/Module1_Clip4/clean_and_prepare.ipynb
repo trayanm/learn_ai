{
 "cells": [
  {
   "cell_type": "code",
   "execution_count": 1,
   "id": "8ad24c1a",
   "metadata": {},
   "outputs": [
    {
     "name": "stderr",
     "output_type": "stream",
     "text": [
      "t:\\dev\\Learn\\AI\\Data-Engineering-for-Machine-Learning\\.venv\\Lib\\site-packages\\tqdm\\auto.py:21: TqdmWarning: IProgress not found. Please update jupyter and ipywidgets. See https://ipywidgets.readthedocs.io/en/stable/user_install.html\n",
      "  from .autonotebook import tqdm as notebook_tqdm\n"
     ]
    },
    {
     "data": {
      "text/html": [
       "\n",
       "            <div>\n",
       "                <ins><a href=\"https://ydata.ai/register\">Upgrade to ydata-sdk</a></ins>\n",
       "                <p>\n",
       "                    Improve your data and profiling with ydata-sdk, featuring data quality scoring, redundancy detection, outlier identification, text validation, and synthetic data generation.\n",
       "                </p>\n",
       "            </div>\n",
       "            "
      ],
      "text/plain": [
       "<IPython.core.display.HTML object>"
      ]
     },
     "metadata": {},
     "output_type": "display_data"
    },
    {
     "name": "stdout",
     "output_type": "stream",
     "text": [
      "=== HEAD ===\n",
      "   age  sex  cp  trestbps  chol  fbs  restecg  thalach  exang  oldpeak  slope  \\\n",
      "0   69    1   0       160   234    1        2      131      0      0.1      1   \n",
      "1   69    0   0       140   239    0        0      151      0      1.8      0   \n",
      "2   66    0   0       150   226    0        0      114      0      2.6      2   \n",
      "3   65    1   0       138   282    1        2      174      0      1.4      1   \n",
      "4   64    1   0       110   211    0        2      144      1      1.8      1   \n",
      "\n",
      "   ca  thal  condition  \n",
      "0   1     0          0  \n",
      "1   2     0          0  \n",
      "2   0     0          0  \n",
      "3   1     0          1  \n",
      "4   0     0          0  \n",
      "=== INFO ===\n",
      "<class 'pandas.core.frame.DataFrame'>\n",
      "RangeIndex: 297 entries, 0 to 296\n",
      "Data columns (total 14 columns):\n",
      " #   Column     Non-Null Count  Dtype  \n",
      "---  ------     --------------  -----  \n",
      " 0   age        297 non-null    int64  \n",
      " 1   sex        297 non-null    int64  \n",
      " 2   cp         297 non-null    int64  \n",
      " 3   trestbps   297 non-null    int64  \n",
      " 4   chol       297 non-null    int64  \n",
      " 5   fbs        297 non-null    int64  \n",
      " 6   restecg    297 non-null    int64  \n",
      " 7   thalach    297 non-null    int64  \n",
      " 8   exang      297 non-null    int64  \n",
      " 9   oldpeak    297 non-null    float64\n",
      " 10  slope      297 non-null    int64  \n",
      " 11  ca         297 non-null    int64  \n",
      " 12  thal       297 non-null    int64  \n",
      " 13  condition  297 non-null    int64  \n",
      "dtypes: float64(1), int64(13)\n",
      "memory usage: 32.6 KB\n",
      "None\n",
      "=== DESCRIBE ===\n",
      "              age         sex          cp    trestbps        chol         fbs  \\\n",
      "count  297.000000  297.000000  297.000000  297.000000  297.000000  297.000000   \n",
      "mean    54.542088    0.676768    2.158249  131.693603  247.350168    0.144781   \n",
      "std      9.049736    0.468500    0.964859   17.762806   51.997583    0.352474   \n",
      "min     29.000000    0.000000    0.000000   94.000000  126.000000    0.000000   \n",
      "25%     48.000000    0.000000    2.000000  120.000000  211.000000    0.000000   \n",
      "50%     56.000000    1.000000    2.000000  130.000000  243.000000    0.000000   \n",
      "75%     61.000000    1.000000    3.000000  140.000000  276.000000    0.000000   \n",
      "max     77.000000    1.000000    3.000000  200.000000  564.000000    1.000000   \n",
      "\n",
      "          restecg     thalach       exang     oldpeak       slope          ca  \\\n",
      "count  297.000000  297.000000  297.000000  297.000000  297.000000  297.000000   \n",
      "mean     0.996633  149.599327    0.326599    1.055556    0.602694    0.676768   \n",
      "std      0.994914   22.941562    0.469761    1.166123    0.618187    0.938965   \n",
      "min      0.000000   71.000000    0.000000    0.000000    0.000000    0.000000   \n",
      "25%      0.000000  133.000000    0.000000    0.000000    0.000000    0.000000   \n",
      "50%      1.000000  153.000000    0.000000    0.800000    1.000000    0.000000   \n",
      "75%      2.000000  166.000000    1.000000    1.600000    1.000000    1.000000   \n",
      "max      2.000000  202.000000    1.000000    6.200000    2.000000    3.000000   \n",
      "\n",
      "             thal   condition  \n",
      "count  297.000000  297.000000  \n",
      "mean     0.835017    0.461279  \n",
      "std      0.956690    0.499340  \n",
      "min      0.000000    0.000000  \n",
      "25%      0.000000    0.000000  \n",
      "50%      0.000000    0.000000  \n",
      "75%      2.000000    1.000000  \n",
      "max      2.000000    1.000000  \n"
     ]
    }
   ],
   "source": [
    "# 1. Import libraries\n",
    "import pandas as pd\n",
    "from ydata_profiling import ProfileReport\n",
    "\n",
    "# 2. load data\n",
    "df = pd.read_csv(\"./heart_cleveland_upload.csv\")\n",
    "\n",
    "print(\"=== HEAD ===\")\n",
    "print(df.head())\n",
    "print(\"=== INFO ===\")\n",
    "print(df.info())\n",
    "print(\"=== DESCRIBE ===\")\n",
    "print(df.describe())\n",
    "\n"
   ]
  },
  {
   "cell_type": "code",
   "execution_count": 3,
   "id": "e7675900",
   "metadata": {},
   "outputs": [
    {
     "name": "stdout",
     "output_type": "stream",
     "text": [
      "=== NULL VALUES ===\n",
      "age          0\n",
      "sex          0\n",
      "cp           0\n",
      "trestbps     0\n",
      "chol         0\n",
      "fbs          0\n",
      "restecg      0\n",
      "thalach      0\n",
      "exang        0\n",
      "oldpeak      0\n",
      "slope        0\n",
      "ca           0\n",
      "thal         0\n",
      "condition    0\n",
      "dtype: int64\n",
      "=== DUPLICATES ===\n"
     ]
    }
   ],
   "source": [
    "# 4. Check for missing values and duplicates\n",
    "missing_values = df.isnull().sum()\n",
    "print(\"=== NULL VALUES ===\")\n",
    "print(missing_values)\n",
    "\n",
    "print(\"=== DUPLICATES ===\")\n",
    "duplicates = df.duplicated().sum()"
   ]
  },
  {
   "cell_type": "code",
   "execution_count": 4,
   "id": "90349feb",
   "metadata": {},
   "outputs": [],
   "source": [
    "# 5. Handle duplicate rows and missing values\n",
    "df.drop_duplicates(inplace=True)\n",
    "df.fillna(df.median(), inplace=True)"
   ]
  },
  {
   "cell_type": "code",
   "execution_count": 5,
   "id": "0e87f788",
   "metadata": {},
   "outputs": [],
   "source": [
    "# 6. Data type conversion for label columns\n",
    "# change 'target' to 'condition' based on actual dataset\n",
    "if df['condition'].dtype != 'int':\n",
    "    df['condition'] = df['condition'].astype(int)"
   ]
  },
  {
   "cell_type": "code",
   "execution_count": 6,
   "id": "45dc074e",
   "metadata": {},
   "outputs": [
    {
     "name": "stderr",
     "output_type": "stream",
     "text": [
      "100%|██████████| 14/14 [00:00<00:00, 943.98it/s]00:00, 88.85it/s, Describe variable: condition]\n",
      "Summarize dataset: 100%|██████████| 48/48 [00:01<00:00, 39.93it/s, Completed]                  \n",
      "Generate report structure: 100%|██████████| 1/1 [00:01<00:00,  1.11s/it]\n",
      "Render HTML: 100%|██████████| 1/1 [00:00<00:00,  2.02it/s]\n",
      "Export report to file: 100%|██████████| 1/1 [00:00<00:00, 107.04it/s]\n"
     ]
    }
   ],
   "source": [
    "# 7. Generate a profile report\n",
    "profile = ProfileReport(df, title=\"Heart Disease Dataset Profiling Report\", explorative=True)\n",
    "# 8. Save the profile report\n",
    "profile.to_file(\"heart_disease_profile_report.html\")"
   ]
  },
  {
   "cell_type": "code",
   "execution_count": 7,
   "id": "7ccfe6dc",
   "metadata": {},
   "outputs": [],
   "source": [
    "# 8. Export the cleaned data\n",
    "df.to_csv(\"cleaned_heart_disease_data.csv\", index=False)\n",
    "df.to_json(\"cleaned_heart_disease_data.json\", orient='records', lines=True)"
   ]
  }
 ],
 "metadata": {
  "kernelspec": {
   "display_name": ".venv",
   "language": "python",
   "name": "python3"
  },
  "language_info": {
   "codemirror_mode": {
    "name": "ipython",
    "version": 3
   },
   "file_extension": ".py",
   "mimetype": "text/x-python",
   "name": "python",
   "nbconvert_exporter": "python",
   "pygments_lexer": "ipython3",
   "version": "3.12.9"
  }
 },
 "nbformat": 4,
 "nbformat_minor": 5
}

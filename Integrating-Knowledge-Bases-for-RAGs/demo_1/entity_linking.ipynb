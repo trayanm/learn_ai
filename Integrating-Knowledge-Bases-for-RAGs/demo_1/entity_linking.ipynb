{
 "cells": [
  {
   "cell_type": "code",
   "execution_count": 9,
   "id": "7ff0dc3a",
   "metadata": {},
   "outputs": [],
   "source": [
    "\n",
    "import spacy\n",
    "import pandas as pd"
   ]
  },
  {
   "cell_type": "code",
   "execution_count": 10,
   "id": "90f11520",
   "metadata": {},
   "outputs": [],
   "source": [
    "# Load spaCy model\n",
    "nlp = spacy.load(\"en_core_web_sm\")"
   ]
  },
  {
   "cell_type": "code",
   "execution_count": 11,
   "id": "3219c01b",
   "metadata": {},
   "outputs": [],
   "source": [
    "\n",
    "# Sample unstructured text\n",
    "text = \"\"\"\n",
    "Apple Inc. is an American multinational technology company headquartered in Cupertino, California.\n",
    "Apple was founded by Steve Jobs, Steve Wozniak, and Ronald Wayne in April 1976.\n",
    "Paggas Technologies is Bulgarian fintech company that specializes in payment solutions. It was founded in 2017 by Trayan Manolov in Bulgaria.\n",
    "Daniel Kolev works at Paggas Technologies and likes hiking.\n",
    "\"\"\"\n",
    "\n",
    "# Sample structured knowledge base as a DataFrame\n",
    "data = {\n",
    "    \"Entity\": [\n",
    "        \"Apple Inc.\",\n",
    "        \"Steve Jobs\",\n",
    "        \"Steve Wozniak\",\n",
    "        \"Ronald Wayne\",\n",
    "        \"Trayan Manolov\",\n",
    "        \"Daniel Kolev\",\n",
    "    ],\n",
    "    \"Type\": [\"Organization\", \"Person\", \"Person\", \"Person\", \"Person\", \"Person\"],\n",
    "    \"Description\": [\n",
    "        \"American multinational technology company\",\n",
    "        \"Co-founder of Apple Inc.\",\n",
    "        \"Co-founder of Apple Inc.\",\n",
    "        \"Co-founder of Apple Inc.\",\n",
    "        \"Founder of Paggas Technologies LTD\",\n",
    "        \"Software engineer at Paggas Technologies\",\n",
    "    ],\n",
    "}\n",
    "\n"
   ]
  },
  {
   "cell_type": "code",
   "execution_count": 12,
   "id": "525d3c9d",
   "metadata": {},
   "outputs": [
    {
     "name": "stdout",
     "output_type": "stream",
     "text": [
      "Knowledge Base:\n",
      "           Entity          Type                                Description\n",
      "0      Apple Inc.  Organization  American multinational technology company\n",
      "1      Steve Jobs        Person                   Co-founder of Apple Inc.\n",
      "2   Steve Wozniak        Person                   Co-founder of Apple Inc.\n",
      "3    Ronald Wayne        Person                   Co-founder of Apple Inc.\n",
      "4  Trayan Manolov        Person         Founder of Paggas Technologies LTD\n",
      "5    Daniel Kolev        Person   Software engineer at Paggas Technologies\n"
     ]
    }
   ],
   "source": [
    "knowledge_base = pd.DataFrame(data)\n",
    "\n",
    "# Display the knowledge base\n",
    "print(\"Knowledge Base:\")\n",
    "print(knowledge_base)"
   ]
  },
  {
   "cell_type": "code",
   "execution_count": 13,
   "id": "25f2c955",
   "metadata": {},
   "outputs": [
    {
     "name": "stdout",
     "output_type": "stream",
     "text": [
      "\n",
      "Extracted Entities:\n",
      "('Apple Inc.', 'ORG')\n",
      "('American', 'NORP')\n",
      "('Cupertino', 'GPE')\n",
      "('California', 'GPE')\n",
      "('Apple', 'ORG')\n",
      "('Steve Jobs', 'PERSON')\n",
      "('Steve Wozniak', 'PERSON')\n",
      "('Ronald Wayne', 'PERSON')\n",
      "('April 1976', 'DATE')\n",
      "('Paggas Technologies', 'ORG')\n",
      "('Bulgarian', 'NORP')\n",
      "('2017', 'DATE')\n",
      "('Trayan Manolov', 'ORG')\n",
      "('Bulgaria', 'GPE')\n",
      "('Daniel Kolev', 'PERSON')\n",
      "('Paggas Technologies', 'ORG')\n"
     ]
    }
   ],
   "source": [
    "# Part 2 - Perform Named Entity Recognition (NER)\n",
    "\n",
    "# Process the text with spaCy\n",
    "doc = nlp(text)\n",
    "\n",
    "# Extract entities\n",
    "entities = [(ent.text, ent.label_) for ent in doc.ents]\n",
    "\n",
    "# Display extracted entities\n",
    "print(\"\\nExtracted Entities:\")\n",
    "for entity in entities:\n",
    "    print(entity)"
   ]
  },
  {
   "cell_type": "code",
   "execution_count": 14,
   "id": "ca933de7",
   "metadata": {},
   "outputs": [],
   "source": [
    "# Part 3 - Link Entities to Structured Knowledge Base\n",
    "\n",
    "# Function to link entities to the knowledge base\n",
    "def link_entities(entities, knowledge_base):\n",
    "    linked_data = []\n",
    "    for entity, label in entities:\n",
    "        match = knowledge_base[knowledge_base[\"Entity\"] == entity]\n",
    "        if not match.empty:\n",
    "            linked_data.append(\n",
    "                {\n",
    "                    \"Entity\": entity,\n",
    "                    \"Label\": label,\n",
    "                    \"Description\": match[\"Description\"].values[0],\n",
    "                }\n",
    "            )\n",
    "    return linked_data\n"
   ]
  },
  {
   "cell_type": "code",
   "execution_count": 15,
   "id": "5c4cbb40",
   "metadata": {},
   "outputs": [
    {
     "name": "stdout",
     "output_type": "stream",
     "text": [
      "\n",
      "Linked Entities:\n",
      "{'Entity': 'Apple Inc.', 'Label': 'ORG', 'Description': 'American multinational technology company'}\n",
      "{'Entity': 'Steve Jobs', 'Label': 'PERSON', 'Description': 'Co-founder of Apple Inc.'}\n",
      "{'Entity': 'Steve Wozniak', 'Label': 'PERSON', 'Description': 'Co-founder of Apple Inc.'}\n",
      "{'Entity': 'Ronald Wayne', 'Label': 'PERSON', 'Description': 'Co-founder of Apple Inc.'}\n",
      "{'Entity': 'Trayan Manolov', 'Label': 'ORG', 'Description': 'Founder of Paggas Technologies LTD'}\n",
      "{'Entity': 'Daniel Kolev', 'Label': 'PERSON', 'Description': 'Software engineer at Paggas Technologies'}\n"
     ]
    }
   ],
   "source": [
    "# Link entities\n",
    "linked_entities = link_entities(entities, knowledge_base)\n",
    "\n",
    "# Display linked entities\n",
    "print(\"\\nLinked Entities:\")\n",
    "for linked_entity in linked_entities:\n",
    "    print(linked_entity)"
   ]
  },
  {
   "cell_type": "code",
   "execution_count": 16,
   "id": "d12d460e",
   "metadata": {},
   "outputs": [
    {
     "name": "stdout",
     "output_type": "stream",
     "text": [
      "\n",
      "Aligned Data:\n",
      "Entity: Apple Inc., Label: ORG, Description: American multinational technology company\n",
      "Entity: Steve Jobs, Label: PERSON, Description: Co-founder of Apple Inc.\n",
      "Entity: Steve Wozniak, Label: PERSON, Description: Co-founder of Apple Inc.\n",
      "Entity: Ronald Wayne, Label: PERSON, Description: Co-founder of Apple Inc.\n",
      "Entity: Trayan Manolov, Label: ORG, Description: Founder of Paggas Technologies LTD\n",
      "Entity: Daniel Kolev, Label: PERSON, Description: Software engineer at Paggas Technologies\n"
     ]
    }
   ],
   "source": [
    "# Part 4 - Print the Aligned Data\n",
    "\n",
    "# Display aligned data\n",
    "print(\"\\nAligned Data:\")\n",
    "for linked_entity in linked_entities:\n",
    "    print(\n",
    "        f\"Entity: {linked_entity['Entity']}, Label: {linked_entity['Label']}, Description: {linked_entity['Description']}\"\n",
    "    )"
   ]
  }
 ],
 "metadata": {
  "kernelspec": {
   "display_name": ".venv",
   "language": "python",
   "name": "python3"
  },
  "language_info": {
   "codemirror_mode": {
    "name": "ipython",
    "version": 3
   },
   "file_extension": ".py",
   "mimetype": "text/x-python",
   "name": "python",
   "nbconvert_exporter": "python",
   "pygments_lexer": "ipython3",
   "version": "3.11.4"
  }
 },
 "nbformat": 4,
 "nbformat_minor": 5
}

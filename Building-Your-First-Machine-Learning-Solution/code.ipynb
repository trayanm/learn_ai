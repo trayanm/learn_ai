{
 "cells": [
  {
   "cell_type": "code",
   "execution_count": 2,
   "id": "2415ab43",
   "metadata": {},
   "outputs": [],
   "source": [
    "import pandas as pd\n",
    "import numpy as np\n",
    "\n"
   ]
  },
  {
   "cell_type": "code",
   "execution_count": 3,
   "id": "31b4fca6",
   "metadata": {},
   "outputs": [],
   "source": [
    "pd.set_option('display.max_rows', 500)\n",
    "pd.set_option('display.max_columns', 500)\n",
    "pd.set_option('display.width', 1000)"
   ]
  },
  {
   "cell_type": "code",
   "execution_count": 4,
   "id": "f61daa24",
   "metadata": {},
   "outputs": [],
   "source": [
    "filename = \"forestfires.csv\"\n",
    "\n",
    "names = [\n",
    "    \"X\",\n",
    "    \"Y\",\n",
    "    \"month\",\n",
    "    \"day\",\n",
    "    \"FFMC\",\n",
    "    \"DMC\",\n",
    "    \"DC\",\n",
    "    \"ISI\",\n",
    "    \"temp\",\n",
    "    \"RH\",\n",
    "    \"wind\",\n",
    "    \"rain\",\n",
    "    \"area\",\n",
    "]\n",
    "\n",
    "df = pd.read_csv(filename, names=names)"
   ]
  },
  {
   "cell_type": "code",
   "execution_count": 5,
   "id": "ea8da5fc",
   "metadata": {},
   "outputs": [],
   "source": [
    "# profiling\n",
    "# from pandas_profiling import ProfileReport\n",
    "# profile = ProfileReport(df, title=\"Forest Fires Data Profiling Report\", explorative=True)\n",
    "# profile.to_file(\"forest_fires_profiling_report.html\")"
   ]
  },
  {
   "cell_type": "code",
   "execution_count": 6,
   "id": "98423076",
   "metadata": {},
   "outputs": [
    {
     "name": "stdout",
     "output_type": "stream",
     "text": [
      "X        0\n",
      "Y        0\n",
      "month    0\n",
      "day      0\n",
      "FFMC     0\n",
      "DMC      0\n",
      "DC       0\n",
      "ISI      0\n",
      "temp     0\n",
      "RH       0\n",
      "wind     0\n",
      "rain     0\n",
      "area     0\n",
      "dtype: int64\n"
     ]
    }
   ],
   "source": [
    "# check null\n",
    "print(df.isnull().sum())"
   ]
  },
  {
   "cell_type": "code",
   "execution_count": 13,
   "id": "fdc09622",
   "metadata": {},
   "outputs": [
    {
     "name": "stdout",
     "output_type": "stream",
     "text": [
      "shape of the dataset:\n",
      "(517, 13)\n",
      "\n",
      "types of the columns:\n",
      "X          int64\n",
      "Y          int64\n",
      "month     object\n",
      "day       object\n",
      "FFMC     float64\n",
      "DMC      float64\n",
      "DC       float64\n",
      "ISI      float64\n",
      "temp     float64\n",
      "RH         int64\n",
      "wind     float64\n",
      "rain     float64\n",
      "area     float64\n",
      "dtype: object\n",
      "\n",
      "head:\n",
      "   X  Y month  day  FFMC   DMC     DC  ISI  temp  RH  wind  rain  area\n",
      "0  7  5   mar  fri  86.2  26.2   94.3  5.1   8.2  51   6.7   0.0   0.0\n",
      "1  7  4   oct  tue  90.6  35.4  669.1  6.7  18.0  33   0.9   0.0   0.0\n",
      "2  7  4   oct  sat  90.6  43.7  686.9  6.7  14.6  33   1.3   0.0   0.0\n",
      "3  8  6   mar  fri  91.7  33.3   77.5  9.0   8.3  97   4.0   0.2   0.0\n",
      "4  8  6   mar  sun  89.3  51.3  102.2  9.6  11.4  99   1.8   0.0   0.0\n",
      "\n",
      "descriptive statistics:\n",
      "                X           Y        FFMC         DMC          DC         ISI        temp          RH        wind        rain         area\n",
      "count  517.000000  517.000000  517.000000  517.000000  517.000000  517.000000  517.000000  517.000000  517.000000  517.000000   517.000000\n",
      "mean     4.669246    4.299807   90.644681  110.872340  547.940039    9.021663   18.889168   44.288201    4.017602    0.021663    12.847292\n",
      "std      2.313778    1.229900    5.520111   64.046482  248.066192    4.559477    5.806625   16.317469    1.791653    0.295959    63.655818\n",
      "min      1.000000    2.000000   18.700000    1.100000    7.900000    0.000000    2.200000   15.000000    0.400000    0.000000     0.000000\n",
      "25%      3.000000    4.000000   90.200000   68.600000  437.700000    6.500000   15.500000   33.000000    2.700000    0.000000     0.000000\n",
      "50%      4.000000    4.000000   91.600000  108.300000  664.200000    8.400000   19.300000   42.000000    4.000000    0.000000     0.520000\n",
      "75%      7.000000    5.000000   92.900000  142.400000  713.900000   10.800000   22.800000   53.000000    4.900000    0.000000     6.570000\n",
      "max      9.000000    9.000000   96.200000  291.300000  860.600000   56.100000   33.300000  100.000000    9.400000    6.400000  1090.840000\n"
     ]
    }
   ],
   "source": [
    "# descriptive statistics\n",
    "print(\"shape of the dataset:\")\n",
    "print(df.shape)\n",
    "\n",
    "print(\"\\ntypes of the columns:\")\n",
    "print(df.dtypes)\n",
    "\n",
    "print(\"\\nhead:\")\n",
    "print(df.head())\n",
    "\n",
    "print(\"\\ndescriptive statistics:\")\n",
    "print(df.describe())"
   ]
  }
 ],
 "metadata": {
  "kernelspec": {
   "display_name": ".venv",
   "language": "python",
   "name": "python3"
  },
  "language_info": {
   "codemirror_mode": {
    "name": "ipython",
    "version": 3
   },
   "file_extension": ".py",
   "mimetype": "text/x-python",
   "name": "python",
   "nbconvert_exporter": "python",
   "pygments_lexer": "ipython3",
   "version": "3.12.9"
  }
 },
 "nbformat": 4,
 "nbformat_minor": 5
}

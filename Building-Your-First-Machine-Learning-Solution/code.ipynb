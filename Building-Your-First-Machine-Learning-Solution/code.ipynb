{
 "cells": [
  {
   "cell_type": "code",
   "execution_count": 4,
   "id": "2415ab43",
   "metadata": {},
   "outputs": [],
   "source": [
    "import pandas as pd"
   ]
  },
  {
   "cell_type": "code",
   "execution_count": 5,
   "id": "f61daa24",
   "metadata": {},
   "outputs": [],
   "source": [
    "filename = \"forestfires.csv\"\n",
    "\n",
    "names = [\n",
    "    \"X\",\n",
    "    \"Y\",\n",
    "    \"month\",\n",
    "    \"day\",\n",
    "    \"FFMC\",\n",
    "    \"DMC\",\n",
    "    \"DC\",\n",
    "    \"ISI\",\n",
    "    \"temp\",\n",
    "    \"RH\",\n",
    "    \"wind\",\n",
    "    \"rain\",\n",
    "    \"area\",\n",
    "]\n",
    "\n",
    "df = pd.read_csv(filename, names=names)"
   ]
  },
  {
   "cell_type": "code",
   "execution_count": null,
   "id": "ea8da5fc",
   "metadata": {},
   "outputs": [
    {
     "name": "stderr",
     "output_type": "stream",
     "text": [
      "d:\\dev\\Learn\\AI\\learn_ai\\.venv\\Lib\\site-packages\\tqdm\\auto.py:21: TqdmWarning: IProgress not found. Please update jupyter and ipywidgets. See https://ipywidgets.readthedocs.io/en/stable/user_install.html\n",
      "  from .autonotebook import tqdm as notebook_tqdm\n"
     ]
    },
    {
     "data": {
      "text/html": [
       "\n",
       "            <div>\n",
       "                <ins><a href=\"https://ydata.ai/register\">Upgrade to ydata-sdk</a></ins>\n",
       "                <p>\n",
       "                    Improve your data and profiling with ydata-sdk, featuring data quality scoring, redundancy detection, outlier identification, text validation, and synthetic data generation.\n",
       "                </p>\n",
       "            </div>\n",
       "            "
      ],
      "text/plain": [
       "<IPython.core.display.HTML object>"
      ]
     },
     "metadata": {},
     "output_type": "display_data"
    },
    {
     "name": "stderr",
     "output_type": "stream",
     "text": [
      "C:\\Users\\traya\\AppData\\Local\\Temp\\ipykernel_21184\\108956508.py:2: DeprecationWarning: `import pandas_profiling` is going to be deprecated by April 1st. Please use `import ydata_profiling` instead.\n",
      "  from pandas_profiling import ProfileReport\n",
      "100%|██████████| 13/13 [00:00<?, ?it/s]8 [00:00<00:00, 75.98it/s, Describe variable: area]\n",
      "Summarize dataset: 100%|██████████| 143/143 [00:10<00:00, 13.93it/s, Completed]               \n",
      "Generate report structure: 100%|██████████| 1/1 [00:02<00:00,  2.25s/it]\n",
      "Render HTML: 100%|██████████| 1/1 [00:02<00:00,  2.29s/it]\n",
      "Export report to file: 100%|██████████| 1/1 [00:00<00:00, 45.45it/s]\n"
     ]
    }
   ],
   "source": [
    "# profiling\n",
    "# from pandas_profiling import ProfileReport\n",
    "# profile = ProfileReport(df, title=\"Forest Fires Data Profiling Report\", explorative=True)\n",
    "# profile.to_file(\"forest_fires_profiling_report.html\")"
   ]
  },
  {
   "cell_type": "code",
   "execution_count": 6,
   "id": "98423076",
   "metadata": {},
   "outputs": [
    {
     "name": "stdout",
     "output_type": "stream",
     "text": [
      "X        0\n",
      "Y        0\n",
      "month    0\n",
      "day      0\n",
      "FFMC     0\n",
      "DMC      0\n",
      "DC       0\n",
      "ISI      0\n",
      "temp     0\n",
      "RH       0\n",
      "wind     0\n",
      "rain     0\n",
      "area     0\n",
      "dtype: int64\n"
     ]
    }
   ],
   "source": [
    "# check null\n",
    "print(df.isnull().sum())"
   ]
  }
 ],
 "metadata": {
  "kernelspec": {
   "display_name": ".venv",
   "language": "python",
   "name": "python3"
  },
  "language_info": {
   "codemirror_mode": {
    "name": "ipython",
    "version": 3
   },
   "file_extension": ".py",
   "mimetype": "text/x-python",
   "name": "python",
   "nbconvert_exporter": "python",
   "pygments_lexer": "ipython3",
   "version": "3.11.4"
  }
 },
 "nbformat": 4,
 "nbformat_minor": 5
}
